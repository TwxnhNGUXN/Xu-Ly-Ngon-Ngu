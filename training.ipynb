{
  "nbformat": 4,
  "nbformat_minor": 0,
  "metadata": {
    "colab": {
      "provenance": []
    },
    "kernelspec": {
      "name": "python3",
      "display_name": "Python 3"
    },
    "language_info": {
      "name": "python"
    }
  },
  "cells": [
    {
      "cell_type": "code",
      "execution_count": null,
      "metadata": {
        "colab": {
          "base_uri": "https://localhost:8080/"
        },
        "id": "us_-BQ3SQMCV",
        "outputId": "73edfead-7011-4c48-9f86-25765a839076"
      },
      "outputs": [
        {
          "output_type": "stream",
          "name": "stdout",
          "text": [
            "Requirement already satisfied: underthesea in /usr/local/lib/python3.10/dist-packages (6.8.0)\n",
            "Requirement already satisfied: Click>=6.0 in /usr/local/lib/python3.10/dist-packages (from underthesea) (8.1.7)\n",
            "Requirement already satisfied: python-crfsuite>=0.9.6 in /usr/local/lib/python3.10/dist-packages (from underthesea) (0.9.10)\n",
            "Requirement already satisfied: nltk in /usr/local/lib/python3.10/dist-packages (from underthesea) (3.8.1)\n",
            "Requirement already satisfied: tqdm in /usr/local/lib/python3.10/dist-packages (from underthesea) (4.66.4)\n",
            "Requirement already satisfied: requests in /usr/local/lib/python3.10/dist-packages (from underthesea) (2.31.0)\n",
            "Requirement already satisfied: joblib in /usr/local/lib/python3.10/dist-packages (from underthesea) (1.4.2)\n",
            "Requirement already satisfied: scikit-learn in /usr/local/lib/python3.10/dist-packages (from underthesea) (1.2.2)\n",
            "Requirement already satisfied: PyYAML in /usr/local/lib/python3.10/dist-packages (from underthesea) (6.0.1)\n",
            "Requirement already satisfied: underthesea-core==1.0.4 in /usr/local/lib/python3.10/dist-packages (from underthesea) (1.0.4)\n",
            "Requirement already satisfied: regex>=2021.8.3 in /usr/local/lib/python3.10/dist-packages (from nltk->underthesea) (2024.5.15)\n",
            "Requirement already satisfied: charset-normalizer<4,>=2 in /usr/local/lib/python3.10/dist-packages (from requests->underthesea) (3.3.2)\n",
            "Requirement already satisfied: idna<4,>=2.5 in /usr/local/lib/python3.10/dist-packages (from requests->underthesea) (3.7)\n",
            "Requirement already satisfied: urllib3<3,>=1.21.1 in /usr/local/lib/python3.10/dist-packages (from requests->underthesea) (2.0.7)\n",
            "Requirement already satisfied: certifi>=2017.4.17 in /usr/local/lib/python3.10/dist-packages (from requests->underthesea) (2024.2.2)\n",
            "Requirement already satisfied: numpy>=1.17.3 in /usr/local/lib/python3.10/dist-packages (from scikit-learn->underthesea) (1.25.2)\n",
            "Requirement already satisfied: scipy>=1.3.2 in /usr/local/lib/python3.10/dist-packages (from scikit-learn->underthesea) (1.11.4)\n",
            "Requirement already satisfied: threadpoolctl>=2.0.0 in /usr/local/lib/python3.10/dist-packages (from scikit-learn->underthesea) (3.5.0)\n"
          ]
        },
        {
          "output_type": "stream",
          "name": "stderr",
          "text": [
            "[nltk_data] Downloading package stopwords to /root/nltk_data...\n",
            "[nltk_data]   Package stopwords is already up-to-date!\n"
          ]
        },
        {
          "output_type": "stream",
          "name": "stdout",
          "text": [
            "Nội dung trang sau khi chuyển thành chữ thường :\n",
            "qatartiền đạo đội trưởng son heung-min thừa nhận chủ động kiếm phạt đền ở phút bù hiệp hai, giúp hàn quốc thoát thua australia ở tứ kết asian cup 2023. hàn quốc bị australia dẫn 0-1 từ phút 42 và không thể tìm bàn gỡ ở hiệp hai trận đấu trên sân al janoub tối 2/2. son thừa nhận hàn quốc gặp nhiều khó khăn trước hàng thủ đối phương. vì vậy, anh cảm thấy có trách nhiệm giúp đồng đội vượt qua, và xem việc kiếm phạt đền là một giải pháp khi vào thời gian đá bù. \"tôi di chuyển vào vòng cấm nhiều hơn\", son nói sau trận. \"tôi nhắm đến những pha phạm lỗi nguy hiểm của đối thủ để cố gắng tạo khác biệt\". son heung-min (áo đỏ) bị lewis miller truy cản trong vòng cấm ở phút bù thứ tư hiệp hai trận hàn quốc thắng australia 2-1, thuộc tứ kết asian cup 2023. ảnh: ap đến phút bù thứ tư hiệp hai, son đi bóng tinh quái trong vòng cấm và bị lewis miller phạm lỗi dẫn đến phạt đền. tiền đạo đội trưởng tiết lộ anh luôn là người đá phạt đền cho hàn quốc, nhưng nhường hwang hee-chan quyền này khi đồng đội tiến đến xin đá với tâm lý rất tự tin. \"tôi không quan trọng việc ai là người thực hiện quả này, mà chỉ cần đội ghi bàn\", son giải thích. trên chấm 11m sau đó, hwang hee-chan bình tĩnh đánh bại mathew ryan gỡ hòa cho hàn quốc. vào hiệp phụ, hàn quốc vẫn chơi dồn ép, và được hưởng quả đá phạt từ cự ly 20m chếch cánh trái, sau khi hwang hee-chan bị phạm lỗi ở phút 104. hai chuyên gia đá phạt của hàn quốc là son heung-min và lee kang-in đều đứng trước bóng. cuối cùng, son cứa lòng chân phải đưa bóng vòng qua hàng rào vào cột gần, nâng tỷ số lên 2-1. \"tôi và lee kang-in đã trao đổi rất nhiều về tình huống này, về quyết định ai sẽ là người thực hiện\", son chia sẻ. \"tôi nghĩ chúng tôi đã lựa chọn đúng đắn\". sau đó, hàn quốc có lợi thế chơi hơn người khi aiden o'neill nhận thẻ đỏ, vì phạm lỗi nguy hiểm với hwang hee-chan cuối hiệp phụ thứ nhất. đội của son thắng 2-1 sau 120 phút, nối dài mạch trận khó khăn sau khi hòa malaysia 3-3 ở lượt cuối vòng bảng, rồi thắng arab saudi bằng luân lưu ở vòng 1/8. \"tôi không mong một chiến thắng kiểu này, nhưng nó nâng cao tinh thần cho toàn đội\", son cho biết thêm. \"tôi ấn tượng trước sự hy sinh và cống hiến của tất cả cầu thủ. chúng tôi chiến đấu vì một chiếc cup duy nhất, không cần lời biện hộ hay than vãn nào\". diễn biến chính trận hàn quốc thắng australia 2-1 ở tứ kết asian cup 2023. chiến thắng trước australia không chỉ giúp son và hàn quốc phần nào trả món nợ thua ở chung kết asian cup 2015, mà còn lập kỷ lục. tiền đạo sinh năm 1992 cán mốc 17 trận và trở thành cầu thủ hàn quốc đá nhiều trận nhất tại asian cup, vượt qua lee young-pyo - cựu hậu vệ có 16 trận. anh cũng đứng thứ hai trong danh sách ghi bàn tại sân chơi số một châu lục, với bảy pha lập công, bằng choi soon-ho và kém lee dong-guk ba bàn. hàn quốc có ba ngày chuẩn bị cho trận bán kết gặp jordan - đội thắng tajikistan 1-0 ở tứ kết - vào ngày 6/2. hai đội từng hòa 2-2 khi chạm trán ở lượt thứ hai bảng e ngày 20/1. hiếu lương\n"
          ]
        }
      ],
      "source": [
        "!pip install underthesea\n",
        "import requests\n",
        "from bs4 import BeautifulSoup\n",
        "from underthesea import word_tokenize\n",
        "import string\n",
        "import re\n",
        "from nltk.corpus import stopwords\n",
        "import nltk\n",
        "nltk.download('stopwords')\n",
        "\n",
        "# lấy dữ liệu từ web\n",
        "url = 'https://vnexpress.net/son-heung-min-co-tinh-kiem-phat-den-truoc-australia-4708211.html'\n",
        "\n",
        "response = requests.get(url)\n",
        "context = response.text\n",
        "\n",
        "\n",
        "# chuyển đoạn text sang chữ thường\n",
        "\n",
        "soup = BeautifulSoup(response.text, 'html.parser')\n",
        "data = soup.find_all('p')\n",
        "processed_text = []\n",
        "for i in data:\n",
        "    text = i.get_text()\n",
        "    processed_text.append(text.lower())\n",
        "\n",
        "text1 = ' '.join(processed_text)\n",
        "print(\"Nội dung trang sau khi chuyển thành chữ thường :\")\n",
        "print(text1)\n",
        "\n",
        "\n"
      ]
    },
    {
      "cell_type": "code",
      "source": [
        "#  loại bỏ dấu câu\n",
        "text1 = ' '.join(processed_text)\n",
        "text2 = re.sub(r'[{}]'.format(re.escape(string.punctuation)), '', text1)\n",
        "\n",
        "print(\"Sau khi loại bỏ dấu câu:\")\n",
        "print(text2)\n",
        "\n",
        "text3=[]\n",
        "text3.append(text2)\n"
      ],
      "metadata": {
        "colab": {
          "base_uri": "https://localhost:8080/"
        },
        "id": "Zvpe4BLiQWtO",
        "outputId": "25c32002-8274-41c0-97be-9baa7ae39abb"
      },
      "execution_count": null,
      "outputs": [
        {
          "output_type": "stream",
          "name": "stdout",
          "text": [
            "Sau khi loại bỏ dấu câu:\n",
            "qatartiền đạo đội trưởng son heungmin thừa nhận chủ động kiếm phạt đền ở phút bù hiệp hai giúp hàn quốc thoát thua australia ở tứ kết asian cup 2023 hàn quốc bị australia dẫn 01 từ phút 42 và không thể tìm bàn gỡ ở hiệp hai trận đấu trên sân al janoub tối 22 son thừa nhận hàn quốc gặp nhiều khó khăn trước hàng thủ đối phương vì vậy anh cảm thấy có trách nhiệm giúp đồng đội vượt qua và xem việc kiếm phạt đền là một giải pháp khi vào thời gian đá bù tôi di chuyển vào vòng cấm nhiều hơn son nói sau trận tôi nhắm đến những pha phạm lỗi nguy hiểm của đối thủ để cố gắng tạo khác biệt son heungmin áo đỏ bị lewis miller truy cản trong vòng cấm ở phút bù thứ tư hiệp hai trận hàn quốc thắng australia 21 thuộc tứ kết asian cup 2023 ảnh ap đến phút bù thứ tư hiệp hai son đi bóng tinh quái trong vòng cấm và bị lewis miller phạm lỗi dẫn đến phạt đền tiền đạo đội trưởng tiết lộ anh luôn là người đá phạt đền cho hàn quốc nhưng nhường hwang heechan quyền này khi đồng đội tiến đến xin đá với tâm lý rất tự tin tôi không quan trọng việc ai là người thực hiện quả này mà chỉ cần đội ghi bàn son giải thích trên chấm 11m sau đó hwang heechan bình tĩnh đánh bại mathew ryan gỡ hòa cho hàn quốc vào hiệp phụ hàn quốc vẫn chơi dồn ép và được hưởng quả đá phạt từ cự ly 20m chếch cánh trái sau khi hwang heechan bị phạm lỗi ở phút 104 hai chuyên gia đá phạt của hàn quốc là son heungmin và lee kangin đều đứng trước bóng cuối cùng son cứa lòng chân phải đưa bóng vòng qua hàng rào vào cột gần nâng tỷ số lên 21 tôi và lee kangin đã trao đổi rất nhiều về tình huống này về quyết định ai sẽ là người thực hiện son chia sẻ tôi nghĩ chúng tôi đã lựa chọn đúng đắn sau đó hàn quốc có lợi thế chơi hơn người khi aiden oneill nhận thẻ đỏ vì phạm lỗi nguy hiểm với hwang heechan cuối hiệp phụ thứ nhất đội của son thắng 21 sau 120 phút nối dài mạch trận khó khăn sau khi hòa malaysia 33 ở lượt cuối vòng bảng rồi thắng arab saudi bằng luân lưu ở vòng 18 tôi không mong một chiến thắng kiểu này nhưng nó nâng cao tinh thần cho toàn đội son cho biết thêm tôi ấn tượng trước sự hy sinh và cống hiến của tất cả cầu thủ chúng tôi chiến đấu vì một chiếc cup duy nhất không cần lời biện hộ hay than vãn nào diễn biến chính trận hàn quốc thắng australia 21 ở tứ kết asian cup 2023 chiến thắng trước australia không chỉ giúp son và hàn quốc phần nào trả món nợ thua ở chung kết asian cup 2015 mà còn lập kỷ lục tiền đạo sinh năm 1992 cán mốc 17 trận và trở thành cầu thủ hàn quốc đá nhiều trận nhất tại asian cup vượt qua lee youngpyo  cựu hậu vệ có 16 trận anh cũng đứng thứ hai trong danh sách ghi bàn tại sân chơi số một châu lục với bảy pha lập công bằng choi soonho và kém lee dongguk ba bàn hàn quốc có ba ngày chuẩn bị cho trận bán kết gặp jordan  đội thắng tajikistan 10 ở tứ kết  vào ngày 62 hai đội từng hòa 22 khi chạm trán ở lượt thứ hai bảng e ngày 201 hiếu lương\n"
          ]
        }
      ]
    },
    {
      "cell_type": "code",
      "source": [
        "# loại bỏ từ dừng (stopwords)\n",
        "\n",
        "stop_words = set(stopwords.words('english'))\n",
        "text1 = [token for token in text1 if token not in stop_words]\n",
        "print(\"Nội dung sau loại bỏ từ dừng:\")\n",
        "print(text1)\n"
      ],
      "metadata": {
        "colab": {
          "base_uri": "https://localhost:8080/"
        },
        "id": "vcMspz3CQY5c",
        "outputId": "5669964b-8aee-4d93-e842-0dd92ef07ced"
      },
      "execution_count": null,
      "outputs": [
        {
          "output_type": "stream",
          "name": "stdout",
          "text": [
            "Nội dung sau loại bỏ từ dừng:\n",
            "['q', 'r', 'ề', 'n', ' ', 'đ', 'ạ', ' ', 'đ', 'ộ', ' ', 'r', 'ư', 'ở', 'n', 'g', ' ', 'n', ' ', 'h', 'e', 'u', 'n', 'g', '-', 'n', ' ', 'h', 'ừ', ' ', 'n', 'h', 'ậ', 'n', ' ', 'c', 'h', 'ủ', ' ', 'đ', 'ộ', 'n', 'g', ' ', 'k', 'ế', ' ', 'p', 'h', 'ạ', ' ', 'đ', 'ề', 'n', ' ', 'ở', ' ', 'p', 'h', 'ú', ' ', 'b', 'ù', ' ', 'h', 'ệ', 'p', ' ', 'h', ',', ' ', 'g', 'ú', 'p', ' ', 'h', 'à', 'n', ' ', 'q', 'u', 'ố', 'c', ' ', 'h', 'á', ' ', 'h', 'u', ' ', 'u', 'r', 'l', ' ', 'ở', ' ', 'ứ', ' ', 'k', 'ế', ' ', 'n', ' ', 'c', 'u', 'p', ' ', '2', '0', '2', '3', '.', ' ', 'h', 'à', 'n', ' ', 'q', 'u', 'ố', 'c', ' ', 'b', 'ị', ' ', 'u', 'r', 'l', ' ', 'ẫ', 'n', ' ', '0', '-', '1', ' ', 'ừ', ' ', 'p', 'h', 'ú', ' ', '4', '2', ' ', 'v', 'à', ' ', 'k', 'h', 'ô', 'n', 'g', ' ', 'h', 'ể', ' ', 'ì', ' ', 'b', 'à', 'n', ' ', 'g', 'ỡ', ' ', 'ở', ' ', 'h', 'ệ', 'p', ' ', 'h', ' ', 'r', 'ậ', 'n', ' ', 'đ', 'ấ', 'u', ' ', 'r', 'ê', 'n', ' ', 'â', 'n', ' ', 'l', ' ', 'j', 'n', 'u', 'b', ' ', 'ố', ' ', '2', '/', '2', '.', ' ', 'n', ' ', 'h', 'ừ', ' ', 'n', 'h', 'ậ', 'n', ' ', 'h', 'à', 'n', ' ', 'q', 'u', 'ố', 'c', ' ', 'g', 'ặ', 'p', ' ', 'n', 'h', 'ề', 'u', ' ', 'k', 'h', 'ó', ' ', 'k', 'h', 'ă', 'n', ' ', 'r', 'ư', 'ớ', 'c', ' ', 'h', 'à', 'n', 'g', ' ', 'h', 'ủ', ' ', 'đ', 'ố', ' ', 'p', 'h', 'ư', 'ơ', 'n', 'g', '.', ' ', 'v', 'ì', ' ', 'v', 'ậ', ',', ' ', 'n', 'h', ' ', 'c', 'ả', ' ', 'h', 'ấ', ' ', 'c', 'ó', ' ', 'r', 'á', 'c', 'h', ' ', 'n', 'h', 'ệ', ' ', 'g', 'ú', 'p', ' ', 'đ', 'ồ', 'n', 'g', ' ', 'đ', 'ộ', ' ', 'v', 'ư', 'ợ', ' ', 'q', 'u', ',', ' ', 'v', 'à', ' ', 'x', 'e', ' ', 'v', 'ệ', 'c', ' ', 'k', 'ế', ' ', 'p', 'h', 'ạ', ' ', 'đ', 'ề', 'n', ' ', 'l', 'à', ' ', 'ộ', ' ', 'g', 'ả', ' ', 'p', 'h', 'á', 'p', ' ', 'k', 'h', ' ', 'v', 'à', ' ', 'h', 'ờ', ' ', 'g', 'n', ' ', 'đ', 'á', ' ', 'b', 'ù', '.', ' ', '\"', 'ô', ' ', ' ', 'c', 'h', 'u', 'ể', 'n', ' ', 'v', 'à', ' ', 'v', 'ò', 'n', 'g', ' ', 'c', 'ấ', ' ', 'n', 'h', 'ề', 'u', ' ', 'h', 'ơ', 'n', '\"', ',', ' ', 'n', ' ', 'n', 'ó', ' ', 'u', ' ', 'r', 'ậ', 'n', '.', ' ', '\"', 'ô', ' ', 'n', 'h', 'ắ', ' ', 'đ', 'ế', 'n', ' ', 'n', 'h', 'ữ', 'n', 'g', ' ', 'p', 'h', ' ', 'p', 'h', 'ạ', ' ', 'l', 'ỗ', ' ', 'n', 'g', 'u', ' ', 'h', 'ể', ' ', 'c', 'ủ', ' ', 'đ', 'ố', ' ', 'h', 'ủ', ' ', 'đ', 'ể', ' ', 'c', 'ố', ' ', 'g', 'ắ', 'n', 'g', ' ', 'ạ', ' ', 'k', 'h', 'á', 'c', ' ', 'b', 'ệ', '\"', '.', ' ', 'n', ' ', 'h', 'e', 'u', 'n', 'g', '-', 'n', ' ', '(', 'á', ' ', 'đ', 'ỏ', ')', ' ', 'b', 'ị', ' ', 'l', 'e', 'w', ' ', 'l', 'l', 'e', 'r', ' ', 'r', 'u', ' ', 'c', 'ả', 'n', ' ', 'r', 'n', 'g', ' ', 'v', 'ò', 'n', 'g', ' ', 'c', 'ấ', ' ', 'ở', ' ', 'p', 'h', 'ú', ' ', 'b', 'ù', ' ', 'h', 'ứ', ' ', 'ư', ' ', 'h', 'ệ', 'p', ' ', 'h', ' ', 'r', 'ậ', 'n', ' ', 'h', 'à', 'n', ' ', 'q', 'u', 'ố', 'c', ' ', 'h', 'ắ', 'n', 'g', ' ', 'u', 'r', 'l', ' ', '2', '-', '1', ',', ' ', 'h', 'u', 'ộ', 'c', ' ', 'ứ', ' ', 'k', 'ế', ' ', 'n', ' ', 'c', 'u', 'p', ' ', '2', '0', '2', '3', '.', ' ', 'ả', 'n', 'h', ':', ' ', 'p', ' ', 'đ', 'ế', 'n', ' ', 'p', 'h', 'ú', ' ', 'b', 'ù', ' ', 'h', 'ứ', ' ', 'ư', ' ', 'h', 'ệ', 'p', ' ', 'h', ',', ' ', 'n', ' ', 'đ', ' ', 'b', 'ó', 'n', 'g', ' ', 'n', 'h', ' ', 'q', 'u', 'á', ' ', 'r', 'n', 'g', ' ', 'v', 'ò', 'n', 'g', ' ', 'c', 'ấ', ' ', 'v', 'à', ' ', 'b', 'ị', ' ', 'l', 'e', 'w', ' ', 'l', 'l', 'e', 'r', ' ', 'p', 'h', 'ạ', ' ', 'l', 'ỗ', ' ', 'ẫ', 'n', ' ', 'đ', 'ế', 'n', ' ', 'p', 'h', 'ạ', ' ', 'đ', 'ề', 'n', '.', ' ', 'ề', 'n', ' ', 'đ', 'ạ', ' ', 'đ', 'ộ', ' ', 'r', 'ư', 'ở', 'n', 'g', ' ', 'ế', ' ', 'l', 'ộ', ' ', 'n', 'h', ' ', 'l', 'u', 'ô', 'n', ' ', 'l', 'à', ' ', 'n', 'g', 'ư', 'ờ', ' ', 'đ', 'á', ' ', 'p', 'h', 'ạ', ' ', 'đ', 'ề', 'n', ' ', 'c', 'h', ' ', 'h', 'à', 'n', ' ', 'q', 'u', 'ố', 'c', ',', ' ', 'n', 'h', 'ư', 'n', 'g', ' ', 'n', 'h', 'ư', 'ờ', 'n', 'g', ' ', 'h', 'w', 'n', 'g', ' ', 'h', 'e', 'e', '-', 'c', 'h', 'n', ' ', 'q', 'u', 'ề', 'n', ' ', 'n', 'à', ' ', 'k', 'h', ' ', 'đ', 'ồ', 'n', 'g', ' ', 'đ', 'ộ', ' ', 'ế', 'n', ' ', 'đ', 'ế', 'n', ' ', 'x', 'n', ' ', 'đ', 'á', ' ', 'v', 'ớ', ' ', 'â', ' ', 'l', 'ý', ' ', 'r', 'ấ', ' ', 'ự', ' ', 'n', '.', ' ', '\"', 'ô', ' ', 'k', 'h', 'ô', 'n', 'g', ' ', 'q', 'u', 'n', ' ', 'r', 'ọ', 'n', 'g', ' ', 'v', 'ệ', 'c', ' ', ' ', 'l', 'à', ' ', 'n', 'g', 'ư', 'ờ', ' ', 'h', 'ự', 'c', ' ', 'h', 'ệ', 'n', ' ', 'q', 'u', 'ả', ' ', 'n', 'à', ',', ' ', 'à', ' ', 'c', 'h', 'ỉ', ' ', 'c', 'ầ', 'n', ' ', 'đ', 'ộ', ' ', 'g', 'h', ' ', 'b', 'à', 'n', '\"', ',', ' ', 'n', ' ', 'g', 'ả', ' ', 'h', 'í', 'c', 'h', '.', ' ', 'r', 'ê', 'n', ' ', 'c', 'h', 'ấ', ' ', '1', '1', ' ', 'u', ' ', 'đ', 'ó', ',', ' ', 'h', 'w', 'n', 'g', ' ', 'h', 'e', 'e', '-', 'c', 'h', 'n', ' ', 'b', 'ì', 'n', 'h', ' ', 'ĩ', 'n', 'h', ' ', 'đ', 'á', 'n', 'h', ' ', 'b', 'ạ', ' ', 'h', 'e', 'w', ' ', 'r', 'n', ' ', 'g', 'ỡ', ' ', 'h', 'ò', ' ', 'c', 'h', ' ', 'h', 'à', 'n', ' ', 'q', 'u', 'ố', 'c', '.', ' ', 'v', 'à', ' ', 'h', 'ệ', 'p', ' ', 'p', 'h', 'ụ', ',', ' ', 'h', 'à', 'n', ' ', 'q', 'u', 'ố', 'c', ' ', 'v', 'ẫ', 'n', ' ', 'c', 'h', 'ơ', ' ', 'ồ', 'n', ' ', 'é', 'p', ',', ' ', 'v', 'à', ' ', 'đ', 'ư', 'ợ', 'c', ' ', 'h', 'ư', 'ở', 'n', 'g', ' ', 'q', 'u', 'ả', ' ', 'đ', 'á', ' ', 'p', 'h', 'ạ', ' ', 'ừ', ' ', 'c', 'ự', ' ', 'l', ' ', '2', '0', ' ', 'c', 'h', 'ế', 'c', 'h', ' ', 'c', 'á', 'n', 'h', ' ', 'r', 'á', ',', ' ', 'u', ' ', 'k', 'h', ' ', 'h', 'w', 'n', 'g', ' ', 'h', 'e', 'e', '-', 'c', 'h', 'n', ' ', 'b', 'ị', ' ', 'p', 'h', 'ạ', ' ', 'l', 'ỗ', ' ', 'ở', ' ', 'p', 'h', 'ú', ' ', '1', '0', '4', '.', ' ', 'h', ' ', 'c', 'h', 'u', 'ê', 'n', ' ', 'g', ' ', 'đ', 'á', ' ', 'p', 'h', 'ạ', ' ', 'c', 'ủ', ' ', 'h', 'à', 'n', ' ', 'q', 'u', 'ố', 'c', ' ', 'l', 'à', ' ', 'n', ' ', 'h', 'e', 'u', 'n', 'g', '-', 'n', ' ', 'v', 'à', ' ', 'l', 'e', 'e', ' ', 'k', 'n', 'g', '-', 'n', ' ', 'đ', 'ề', 'u', ' ', 'đ', 'ứ', 'n', 'g', ' ', 'r', 'ư', 'ớ', 'c', ' ', 'b', 'ó', 'n', 'g', '.', ' ', 'c', 'u', 'ố', ' ', 'c', 'ù', 'n', 'g', ',', ' ', 'n', ' ', 'c', 'ứ', ' ', 'l', 'ò', 'n', 'g', ' ', 'c', 'h', 'â', 'n', ' ', 'p', 'h', 'ả', ' ', 'đ', 'ư', ' ', 'b', 'ó', 'n', 'g', ' ', 'v', 'ò', 'n', 'g', ' ', 'q', 'u', ' ', 'h', 'à', 'n', 'g', ' ', 'r', 'à', ' ', 'v', 'à', ' ', 'c', 'ộ', ' ', 'g', 'ầ', 'n', ',', ' ', 'n', 'â', 'n', 'g', ' ', 'ỷ', ' ', 'ố', ' ', 'l', 'ê', 'n', ' ', '2', '-', '1', '.', ' ', '\"', 'ô', ' ', 'v', 'à', ' ', 'l', 'e', 'e', ' ', 'k', 'n', 'g', '-', 'n', ' ', 'đ', 'ã', ' ', 'r', ' ', 'đ', 'ổ', ' ', 'r', 'ấ', ' ', 'n', 'h', 'ề', 'u', ' ', 'v', 'ề', ' ', 'ì', 'n', 'h', ' ', 'h', 'u', 'ố', 'n', 'g', ' ', 'n', 'à', ',', ' ', 'v', 'ề', ' ', 'q', 'u', 'ế', ' ', 'đ', 'ị', 'n', 'h', ' ', ' ', 'ẽ', ' ', 'l', 'à', ' ', 'n', 'g', 'ư', 'ờ', ' ', 'h', 'ự', 'c', ' ', 'h', 'ệ', 'n', '\"', ',', ' ', 'n', ' ', 'c', 'h', ' ', 'ẻ', '.', ' ', '\"', 'ô', ' ', 'n', 'g', 'h', 'ĩ', ' ', 'c', 'h', 'ú', 'n', 'g', ' ', 'ô', ' ', 'đ', 'ã', ' ', 'l', 'ự', ' ', 'c', 'h', 'ọ', 'n', ' ', 'đ', 'ú', 'n', 'g', ' ', 'đ', 'ắ', 'n', '\"', '.', ' ', 'u', ' ', 'đ', 'ó', ',', ' ', 'h', 'à', 'n', ' ', 'q', 'u', 'ố', 'c', ' ', 'c', 'ó', ' ', 'l', 'ợ', ' ', 'h', 'ế', ' ', 'c', 'h', 'ơ', ' ', 'h', 'ơ', 'n', ' ', 'n', 'g', 'ư', 'ờ', ' ', 'k', 'h', ' ', 'e', 'n', ' ', \"'\", 'n', 'e', 'l', 'l', ' ', 'n', 'h', 'ậ', 'n', ' ', 'h', 'ẻ', ' ', 'đ', 'ỏ', ',', ' ', 'v', 'ì', ' ', 'p', 'h', 'ạ', ' ', 'l', 'ỗ', ' ', 'n', 'g', 'u', ' ', 'h', 'ể', ' ', 'v', 'ớ', ' ', 'h', 'w', 'n', 'g', ' ', 'h', 'e', 'e', '-', 'c', 'h', 'n', ' ', 'c', 'u', 'ố', ' ', 'h', 'ệ', 'p', ' ', 'p', 'h', 'ụ', ' ', 'h', 'ứ', ' ', 'n', 'h', 'ấ', '.', ' ', 'đ', 'ộ', ' ', 'c', 'ủ', ' ', 'n', ' ', 'h', 'ắ', 'n', 'g', ' ', '2', '-', '1', ' ', 'u', ' ', '1', '2', '0', ' ', 'p', 'h', 'ú', ',', ' ', 'n', 'ố', ' ', 'à', ' ', 'ạ', 'c', 'h', ' ', 'r', 'ậ', 'n', ' ', 'k', 'h', 'ó', ' ', 'k', 'h', 'ă', 'n', ' ', 'u', ' ', 'k', 'h', ' ', 'h', 'ò', ' ', 'l', ' ', '3', '-', '3', ' ', 'ở', ' ', 'l', 'ư', 'ợ', ' ', 'c', 'u', 'ố', ' ', 'v', 'ò', 'n', 'g', ' ', 'b', 'ả', 'n', 'g', ',', ' ', 'r', 'ồ', ' ', 'h', 'ắ', 'n', 'g', ' ', 'r', 'b', ' ', 'u', ' ', 'b', 'ằ', 'n', 'g', ' ', 'l', 'u', 'â', 'n', ' ', 'l', 'ư', 'u', ' ', 'ở', ' ', 'v', 'ò', 'n', 'g', ' ', '1', '/', '8', '.', ' ', '\"', 'ô', ' ', 'k', 'h', 'ô', 'n', 'g', ' ', 'n', 'g', ' ', 'ộ', ' ', 'c', 'h', 'ế', 'n', ' ', 'h', 'ắ', 'n', 'g', ' ', 'k', 'ể', 'u', ' ', 'n', 'à', ',', ' ', 'n', 'h', 'ư', 'n', 'g', ' ', 'n', 'ó', ' ', 'n', 'â', 'n', 'g', ' ', 'c', ' ', 'n', 'h', ' ', 'h', 'ầ', 'n', ' ', 'c', 'h', ' ', 'à', 'n', ' ', 'đ', 'ộ', '\"', ',', ' ', 'n', ' ', 'c', 'h', ' ', 'b', 'ế', ' ', 'h', 'ê', '.', ' ', '\"', 'ô', ' ', 'ấ', 'n', ' ', 'ư', 'ợ', 'n', 'g', ' ', 'r', 'ư', 'ớ', 'c', ' ', 'ự', ' ', 'h', ' ', 'n', 'h', ' ', 'v', 'à', ' ', 'c', 'ố', 'n', 'g', ' ', 'h', 'ế', 'n', ' ', 'c', 'ủ', ' ', 'ấ', ' ', 'c', 'ả', ' ', 'c', 'ầ', 'u', ' ', 'h', 'ủ', '.', ' ', 'c', 'h', 'ú', 'n', 'g', ' ', 'ô', ' ', 'c', 'h', 'ế', 'n', ' ', 'đ', 'ấ', 'u', ' ', 'v', 'ì', ' ', 'ộ', ' ', 'c', 'h', 'ế', 'c', ' ', 'c', 'u', 'p', ' ', 'u', ' ', 'n', 'h', 'ấ', ',', ' ', 'k', 'h', 'ô', 'n', 'g', ' ', 'c', 'ầ', 'n', ' ', 'l', 'ờ', ' ', 'b', 'ệ', 'n', ' ', 'h', 'ộ', ' ', 'h', ' ', 'h', 'n', ' ', 'v', 'ã', 'n', ' ', 'n', 'à', '\"', '.', ' ', 'ễ', 'n', ' ', 'b', 'ế', 'n', ' ', 'c', 'h', 'í', 'n', 'h', ' ', 'r', 'ậ', 'n', ' ', 'h', 'à', 'n', ' ', 'q', 'u', 'ố', 'c', ' ', 'h', 'ắ', 'n', 'g', ' ', 'u', 'r', 'l', ' ', '2', '-', '1', ' ', 'ở', ' ', 'ứ', ' ', 'k', 'ế', ' ', 'n', ' ', 'c', 'u', 'p', ' ', '2', '0', '2', '3', '.', ' ', 'c', 'h', 'ế', 'n', ' ', 'h', 'ắ', 'n', 'g', ' ', 'r', 'ư', 'ớ', 'c', ' ', 'u', 'r', 'l', ' ', 'k', 'h', 'ô', 'n', 'g', ' ', 'c', 'h', 'ỉ', ' ', 'g', 'ú', 'p', ' ', 'n', ' ', 'v', 'à', ' ', 'h', 'à', 'n', ' ', 'q', 'u', 'ố', 'c', ' ', 'p', 'h', 'ầ', 'n', ' ', 'n', 'à', ' ', 'r', 'ả', ' ', 'ó', 'n', ' ', 'n', 'ợ', ' ', 'h', 'u', ' ', 'ở', ' ', 'c', 'h', 'u', 'n', 'g', ' ', 'k', 'ế', ' ', 'n', ' ', 'c', 'u', 'p', ' ', '2', '0', '1', '5', ',', ' ', 'à', ' ', 'c', 'ò', 'n', ' ', 'l', 'ậ', 'p', ' ', 'k', 'ỷ', ' ', 'l', 'ụ', 'c', '.', ' ', 'ề', 'n', ' ', 'đ', 'ạ', ' ', 'n', 'h', ' ', 'n', 'ă', ' ', '1', '9', '9', '2', ' ', 'c', 'á', 'n', ' ', 'ố', 'c', ' ', '1', '7', ' ', 'r', 'ậ', 'n', ' ', 'v', 'à', ' ', 'r', 'ở', ' ', 'h', 'à', 'n', 'h', ' ', 'c', 'ầ', 'u', ' ', 'h', 'ủ', ' ', 'h', 'à', 'n', ' ', 'q', 'u', 'ố', 'c', ' ', 'đ', 'á', ' ', 'n', 'h', 'ề', 'u', ' ', 'r', 'ậ', 'n', ' ', 'n', 'h', 'ấ', ' ', 'ạ', ' ', 'n', ' ', 'c', 'u', 'p', ',', ' ', 'v', 'ư', 'ợ', ' ', 'q', 'u', ' ', 'l', 'e', 'e', ' ', 'u', 'n', 'g', '-', 'p', ' ', '-', ' ', 'c', 'ự', 'u', ' ', 'h', 'ậ', 'u', ' ', 'v', 'ệ', ' ', 'c', 'ó', ' ', '1', '6', ' ', 'r', 'ậ', 'n', '.', ' ', 'n', 'h', ' ', 'c', 'ũ', 'n', 'g', ' ', 'đ', 'ứ', 'n', 'g', ' ', 'h', 'ứ', ' ', 'h', ' ', 'r', 'n', 'g', ' ', 'n', 'h', ' ', 'á', 'c', 'h', ' ', 'g', 'h', ' ', 'b', 'à', 'n', ' ', 'ạ', ' ', 'â', 'n', ' ', 'c', 'h', 'ơ', ' ', 'ố', ' ', 'ộ', ' ', 'c', 'h', 'â', 'u', ' ', 'l', 'ụ', 'c', ',', ' ', 'v', 'ớ', ' ', 'b', 'ả', ' ', 'p', 'h', ' ', 'l', 'ậ', 'p', ' ', 'c', 'ô', 'n', 'g', ',', ' ', 'b', 'ằ', 'n', 'g', ' ', 'c', 'h', ' ', 'n', '-', 'h', ' ', 'v', 'à', ' ', 'k', 'é', ' ', 'l', 'e', 'e', ' ', 'n', 'g', '-', 'g', 'u', 'k', ' ', 'b', ' ', 'b', 'à', 'n', '.', ' ', 'h', 'à', 'n', ' ', 'q', 'u', 'ố', 'c', ' ', 'c', 'ó', ' ', 'b', ' ', 'n', 'g', 'à', ' ', 'c', 'h', 'u', 'ẩ', 'n', ' ', 'b', 'ị', ' ', 'c', 'h', ' ', 'r', 'ậ', 'n', ' ', 'b', 'á', 'n', ' ', 'k', 'ế', ' ', 'g', 'ặ', 'p', ' ', 'j', 'r', 'n', ' ', '-', ' ', 'đ', 'ộ', ' ', 'h', 'ắ', 'n', 'g', ' ', 'j', 'k', 'n', ' ', '1', '-', '0', ' ', 'ở', ' ', 'ứ', ' ', 'k', 'ế', ' ', '-', ' ', 'v', 'à', ' ', 'n', 'g', 'à', ' ', '6', '/', '2', '.', ' ', 'h', ' ', 'đ', 'ộ', ' ', 'ừ', 'n', 'g', ' ', 'h', 'ò', ' ', '2', '-', '2', ' ', 'k', 'h', ' ', 'c', 'h', 'ạ', ' ', 'r', 'á', 'n', ' ', 'ở', ' ', 'l', 'ư', 'ợ', ' ', 'h', 'ứ', ' ', 'h', ' ', 'b', 'ả', 'n', 'g', ' ', 'e', ' ', 'n', 'g', 'à', ' ', '2', '0', '/', '1', '.', ' ', 'h', 'ế', 'u', ' ', 'l', 'ư', 'ơ', 'n', 'g']\n"
          ]
        }
      ]
    },
    {
      "cell_type": "code",
      "source": [
        "from underthesea import word_tokenize\n",
        "\n",
        "# tách từ\n",
        "tokens=word_tokenize(text2)\n",
        "print(tokens)"
      ],
      "metadata": {
        "colab": {
          "base_uri": "https://localhost:8080/"
        },
        "id": "-jBC5NQLQakX",
        "outputId": "5221a7c1-3854-4ed1-c6d0-21ec9df7e15e"
      },
      "execution_count": null,
      "outputs": [
        {
          "output_type": "stream",
          "name": "stdout",
          "text": [
            "['qatartiền', 'đạo', 'đội trưởng', 'son heungmin', 'thừa nhận', 'chủ động', 'kiếm', 'phạt đền', 'ở', 'phút', 'bù hiệp', 'hai', 'giúp', 'hàn quốc', 'thoát', 'thua australia', 'ở', 'tứ kết', 'asian', 'cup', '2023', 'hàn quốc', 'bị', 'australia', 'dẫn', '01', 'từ', 'phút', '42', 'và', 'không thể', 'tìm', 'bàn gỡ', 'ở', 'hiệp', 'hai', 'trận', 'đấu', 'trên', 'sân al', 'janoub', 'tối', '22', 'son', 'thừa nhận', 'hàn quốc', 'gặp', 'nhiều', 'khó khăn', 'trước', 'hàng thủ', 'đối phương', 'vì vậy', 'anh', 'cảm thấy', 'có', 'trách nhiệm', 'giúp', 'đồng đội', 'vượt', 'qua', 'và', 'xem', 'việc', 'kiếm', 'phạt đền', 'là', 'một', 'giải pháp', 'khi', 'vào', 'thời gian', 'đá', 'bù', 'tôi', 'di chuyển', 'vào', 'vòng', 'cấm', 'nhiều', 'hơn', 'son', 'nói', 'sau', 'trận', 'tôi', 'nhắm', 'đến', 'những', 'pha phạm', 'lỗi', 'nguy hiểm', 'của', 'đối thủ', 'để', 'cố gắng', 'tạo', 'khác biệt', 'son heungmin', 'áo', 'đỏ', 'bị', 'lewis', 'miller', 'truy cản', 'trong', 'vòng', 'cấm', 'ở', 'phút', 'bù', 'thứ', 'tư hiệp', 'hai', 'trận', 'hàn quốc', 'thắng', 'australia', '21', 'thuộc', 'tứ kết', 'asian', 'cup', '2023', 'ảnh', 'ap', 'đến', 'phút', 'bù', 'thứ', 'tư hiệp', 'hai', 'son', 'đi', 'bóng', 'tinh quái', 'trong', 'vòng', 'cấm', 'và', 'bị', 'lewis', 'miller phạm', 'lỗi', 'dẫn', 'đến', 'phạt đền', 'tiền đạo', 'đội trưởng', 'tiết lộ', 'anh', 'luôn', 'là', 'người', 'đá', 'phạt đền', 'cho', 'hàn quốc', 'nhưng', 'nhường', 'hwang', 'heechan', 'quyền', 'này', 'khi', 'đồng đội', 'tiến', 'đến', 'xin', 'đá', 'với', 'tâm lý', 'rất', 'tự tin', 'tôi', 'không', 'quan trọng', 'việc', 'ai', 'là', 'người', 'thực hiện', 'quả', 'này', 'mà', 'chỉ', 'cần', 'đội', 'ghi', 'bàn son', 'giải thích', 'trên', 'chấm', '11', 'm', 'sau', 'đó', 'hwang', 'heechan', 'bình tĩnh', 'đánh bại', 'mathew', 'ryan', 'gỡ', 'hòa', 'cho', 'hàn quốc', 'vào', 'hiệp', 'phụ', 'hàn quốc', 'vẫn', 'chơi', 'dồn ép', 'và', 'được', 'hưởng', 'quả', 'đá', 'phạt từ', 'cự ly', '20', 'm', 'chếch', 'cánh', 'trái', 'sau', 'khi', 'hwang', 'heechan', 'bị', 'phạm', 'lỗi', 'ở', 'phút', '104', 'hai', 'chuyên gia', 'đá', 'phạt', 'của', 'hàn quốc', 'là', 'son heungmin', 'và', 'lee kangin', 'đều', 'đứng', 'trước', 'bóng', 'cuối cùng', 'son cứa', 'lòng', 'chân', 'phải', 'đưa', 'bóng', 'vòng', 'qua', 'hàng rào', 'vào', 'cột', 'gần', 'nâng', 'tỷ', 'số', 'lên', '21', 'tôi', 'và', 'lee kangin', 'đã', 'trao đổi', 'rất', 'nhiều', 'về', 'tình huống', 'này', 'về', 'quyết định', 'ai', 'sẽ', 'là', 'người', 'thực hiện', 'son', 'chia sẻ', 'tôi', 'nghĩ', 'chúng tôi', 'đã', 'lựa chọn', 'đúng đắn', 'sau', 'đó', 'hàn quốc', 'có', 'lợi thế', 'chơi', 'hơn', 'người', 'khi', 'aiden', 'oneill', 'nhận', 'thẻ đỏ', 'vì', 'phạm', 'lỗi', 'nguy hiểm', 'với', 'hwang', 'heechan', 'cuối', 'hiệp', 'phụ', 'thứ', 'nhất', 'đội', 'của', 'son thắng', '21', 'sau', '120', 'phút', 'nối', 'dài mạch', 'trận', 'khó khăn', 'sau', 'khi', 'hòa', 'malaysia', '33', 'ở', 'lượt', 'cuối', 'vòng', 'bảng', 'rồi', 'thắng', 'arab', 'saudi', 'bằng', 'luân lưu', 'ở', 'vòng', '18', 'tôi', 'không', 'mong', 'một', 'chiến thắng', 'kiểu', 'này', 'nhưng', 'nó', 'nâng', 'cao', 'tinh thần', 'cho', 'toàn', 'đội', 'son', 'cho', 'biết', 'thêm', 'tôi', 'ấn tượng', 'trước', 'sự', 'hy sinh', 'và', 'cống hiến', 'của', 'tất cả', 'cầu thủ', 'chúng tôi', 'chiến đấu', 'vì', 'một', 'chiếc', 'cup', 'duy nhất', 'không', 'cần', 'lời', 'biện hộ', 'hay', 'than vãn', 'nào', 'diễn biến', 'chính', 'trận', 'hàn quốc', 'thắng', 'australia', '21', 'ở', 'tứ kết', 'asian', 'cup', '2023', 'chiến thắng', 'trước', 'australia', 'không chỉ', 'giúp', 'son', 'và', 'hàn quốc', 'phần nào', 'trả', 'món', 'nợ thua', 'ở', 'chung kết', 'asian', 'cup', '2015', 'mà còn', 'lập', 'kỷ lục', 'tiền', 'đạo', 'sinh', 'năm', '1992', 'cán', 'mốc', '17', 'trận', 'và', 'trở thành', 'cầu thủ', 'hàn quốc', 'đá', 'nhiều', 'trận', 'nhất', 'tại', 'asian cup', 'vượt', 'qua', 'lee', 'youngpyo cựu', 'hậu vệ', 'có', '16', 'trận', 'anh', 'cũng', 'đứng', 'thứ', 'hai', 'trong', 'danh sách', 'ghi bàn', 'tại', 'sân chơi', 'số một', 'châu lục', 'với', 'bảy', 'pha', 'lập', 'công bằng', 'choi soonho', 'và', 'kém', 'lee', 'dongguk', 'ba', 'bàn', 'hàn quốc', 'có', 'ba', 'ngày', 'chuẩn bị', 'cho', 'trận', 'bán kết', 'gặp', 'jordan', 'đội', 'thắng', 'tajikistan', '10', 'ở', 'tứ kết', 'vào', 'ngày', '62', 'hai', 'đội', 'từng', 'hòa', '22', 'khi', 'chạm trán', 'ở', 'lượt', 'thứ', 'hai', 'bảng', 'e', 'ngày', '201', 'hiếu lương']\n"
          ]
        }
      ]
    },
    {
      "cell_type": "code",
      "source": [
        "# Loại bỏ từ trùng lặp bằng cách chuyển danh sách sang tập hợp\n",
        "unique_tokens = list(set(tokens))\n",
        "print(\"Nội dung sau khi loại bỏ từ trùng lặp:\")\n",
        "print(unique_tokens)"
      ],
      "metadata": {
        "colab": {
          "base_uri": "https://localhost:8080/"
        },
        "id": "w_l8V6eLUmM5",
        "outputId": "958586a4-027f-4862-c789-7cb947e0d9e5"
      },
      "execution_count": null,
      "outputs": [
        {
          "output_type": "stream",
          "name": "stdout",
          "text": [
            "Nội dung sau khi loại bỏ từ trùng lặp:\n",
            "['2023', 'nói', 'hàng rào', 'heechan', 'trái', 'chúng tôi', 'tâm lý', 'nguy hiểm', 'cần', 'nợ thua', '10', 'đi', 'đều', 'cột', 'sân al', 'toàn', 'từng', 'phải', 'chủ động', 'khi', '22', 'thắng', 'ghi bàn', 'lòng', 'khó khăn', 'son heungmin', 'quan trọng', 'luân lưu', 'oneill', 'bị', 'đã', 'xin', 'asian cup', 'cầu thủ', 'bóng', 'dẫn', 'mong', 'đúng đắn', 'ryan', 'sẽ', 'cảm thấy', 'bình tĩnh', 'tỷ', 'lợi thế', 'hàn quốc', 'chiến thắng', 'món', 'truy cản', 'kiếm', 'cự ly', 'hwang', 'thoát', 'tứ kết', 'phụ', 'sân chơi', 'tiến', 'nâng', 'nhất', 'đến', 'trong', 'tất cả', 'nó', 'chiến đấu', 'danh sách', 'đồng đội', 'bảy', 'có', 'ba', '01', 'lee', '201', '20', 'pha phạm', 'này', 'dongguk', 'không chỉ', 'e', '2015', 'trao đổi', 'cup', 'giúp', 'tiền', 'và', '17', 'saudi', 'ảnh', 'australia', 'tạo', 'vào', 'son thắng', 'arab', 'vẫn', 'chếch', 'than vãn', 'phạm', 'số', 'nối', 'phút', 'ap', 'giải pháp', 'là', 'kém', 'bàn son', 'đưa', 'cuối', 'người', 'nào', 'gặp', 'choi soonho', '33', 'bảng', 'bàn', 'biết', 'số một', 'ghi', 'kiểu', 'diễn biến', 'phạt', 'việc', 'tư hiệp', 'youngpyo cựu', 'gỡ', 'khác biệt', 'lượt', 'tinh thần', 'cao', 'của', 'trả', 'hiệp', 'quyền', 'trước', 'lên', 'cũng', 'đứng', 'thua australia', 'vòng', 'lỗi', 'sự', 'janoub', 'đội trưởng', 'ai', 'quyết định', 'tại', '120', 'qua', '21', 'vượt', 'sau', 'rồi', 'mathew', 'cố gắng', 'malaysia', 'tối', 'lee kangin', 'lựa chọn', '42', 'gần', 'ấn tượng', 'đối thủ', 'son', '62', 'châu lục', 'tìm', 'thực hiện', 'chỉ', 'thêm', 'mà còn', 'cán', 'tiết lộ', 'thuộc', 'từ', 'đạo', 'son cứa', 'trên', 'mốc', 'tôi', 'kỷ lục', 'đối phương', 'bằng', 'vì', 'cuối cùng', 'chiếc', 'vì vậy', 'biện hộ', 'mà', 'tajikistan', 'thẻ đỏ', 'áo', 'đấu', 'di chuyển', 'pha', 'công bằng', 'phần nào', 'lời', 'miller phạm', 'thừa nhận', 'đó', 'chính', 'asian', '18', 'nhường', 'nhận', 'chung kết', 'ngày', 'lewis', 'tinh quái', 'chuẩn bị', 'giải thích', 'chơi', 'chia sẻ', 'đánh bại', 'cấm', 'thời gian', 'jordan', 'những', 'hòa', 'bán kết', 'anh', 'duy nhất', 'chạm trán', 'bàn gỡ', 'năm', 'trách nhiệm', 'hơn', 'hậu vệ', 'm', 'được', '11', 'chuyên gia', 'miller', 'chân', 'xem', 'không', 'aiden', 'về', 'lập', 'để', 'một', 'phạt từ', 'phạt đền', 'hay', 'đội', 'hàng thủ', 'tiền đạo', 'nhắm', 'hy sinh', 'hưởng', 'qatartiền', 'quả', '1992', 'tình huống', 'trở thành', '16', 'bù', 'chấm', 'với', 'bù hiệp', 'nhiều', 'nhưng', 'cống hiến', 'rất', '104', 'cho', 'cánh', 'hai', 'luôn', 'sinh', 'hiếu lương', 'thứ', 'ở', 'tự tin', 'dài mạch', 'không thể', 'nghĩ', 'đá', 'đỏ', 'trận', 'dồn ép']\n"
          ]
        }
      ]
    },
    {
      "cell_type": "code",
      "source": [
        "# Sắp xếp các từ theo thứ tự bảng chữ cái\n",
        "sorted_tokens = sorted(unique_tokens)\n",
        "print(\"Nội dung sau khi sắp xếp theo thứ tự bảng chữ cái:\")\n",
        "print(sorted_tokens)"
      ],
      "metadata": {
        "colab": {
          "base_uri": "https://localhost:8080/"
        },
        "id": "pwyjXf-YT7TS",
        "outputId": "69c6d0d5-49f3-4af0-9db8-aa370e46ff7b"
      },
      "execution_count": null,
      "outputs": [
        {
          "output_type": "stream",
          "name": "stdout",
          "text": [
            "Nội dung sau khi sắp xếp theo thứ tự bảng chữ cái:\n",
            "['01', '10', '104', '11', '120', '16', '17', '18', '1992', '20', '201', '2015', '2023', '21', '22', '33', '42', '62', 'ai', 'aiden', 'anh', 'ap', 'arab', 'asian', 'asian cup', 'australia', 'ba', 'biết', 'biện hộ', 'bàn', 'bàn gỡ', 'bàn son', 'bán kết', 'bình tĩnh', 'bóng', 'bù', 'bù hiệp', 'bảng', 'bảy', 'bằng', 'bị', 'cao', 'chia sẻ', 'chiếc', 'chiến thắng', 'chiến đấu', 'cho', 'choi soonho', 'chung kết', 'chuyên gia', 'chuẩn bị', 'chân', 'châu lục', 'chính', 'chúng tôi', 'chơi', 'chạm trán', 'chấm', 'chếch', 'chỉ', 'chủ động', 'cup', 'cuối', 'cuối cùng', 'cán', 'cánh', 'có', 'công bằng', 'cũng', 'cảm thấy', 'cấm', 'cần', 'cầu thủ', 'cố gắng', 'cống hiến', 'cột', 'của', 'cự ly', 'danh sách', 'di chuyển', 'diễn biến', 'dongguk', 'duy nhất', 'dài mạch', 'dẫn', 'dồn ép', 'e', 'ghi', 'ghi bàn', 'giúp', 'giải pháp', 'giải thích', 'gần', 'gặp', 'gỡ', 'hai', 'hay', 'heechan', 'hiếu lương', 'hiệp', 'hwang', 'hy sinh', 'hàn quốc', 'hàng rào', 'hàng thủ', 'hòa', 'hơn', 'hưởng', 'hậu vệ', 'janoub', 'jordan', 'khi', 'khác biệt', 'khó khăn', 'không', 'không chỉ', 'không thể', 'kiếm', 'kiểu', 'kém', 'kỷ lục', 'lee', 'lee kangin', 'lewis', 'luân lưu', 'luôn', 'là', 'lên', 'lòng', 'lượt', 'lập', 'lỗi', 'lời', 'lợi thế', 'lựa chọn', 'm', 'malaysia', 'mathew', 'miller', 'miller phạm', 'mong', 'mà', 'mà còn', 'món', 'mốc', 'một', 'nghĩ', 'nguy hiểm', 'ngày', 'người', 'nhiều', 'nhưng', 'nhường', 'nhất', 'nhận', 'nhắm', 'những', 'nào', 'này', 'nâng', 'nó', 'nói', 'năm', 'nối', 'nợ thua', 'oneill', 'pha', 'pha phạm', 'phút', 'phạm', 'phạt', 'phạt từ', 'phạt đền', 'phải', 'phần nào', 'phụ', 'qatartiền', 'qua', 'quan trọng', 'quyết định', 'quyền', 'quả', 'ryan', 'rất', 'rồi', 'sau', 'saudi', 'sinh', 'son', 'son cứa', 'son heungmin', 'son thắng', 'sân al', 'sân chơi', 'sẽ', 'số', 'số một', 'sự', 'tajikistan', 'than vãn', 'thoát', 'thua australia', 'thuộc', 'thêm', 'thắng', 'thẻ đỏ', 'thời gian', 'thứ', 'thừa nhận', 'thực hiện', 'tinh quái', 'tinh thần', 'tiến', 'tiết lộ', 'tiền', 'tiền đạo', 'toàn', 'trao đổi', 'trong', 'truy cản', 'trách nhiệm', 'trái', 'trên', 'trước', 'trả', 'trận', 'trở thành', 'tâm lý', 'tìm', 'tình huống', 'tôi', 'tư hiệp', 'tại', 'tạo', 'tất cả', 'tối', 'tứ kết', 'từ', 'từng', 'tự tin', 'tỷ', 'việc', 'và', 'vào', 'vì', 'vì vậy', 'vòng', 'vượt', 'vẫn', 'về', 'với', 'xem', 'xin', 'youngpyo cựu', 'áo', 'đi', 'đá', 'đánh bại', 'đã', 'đó', 'đúng đắn', 'đưa', 'được', 'đạo', 'đấu', 'đến', 'đều', 'để', 'đỏ', 'đối phương', 'đối thủ', 'đồng đội', 'đội', 'đội trưởng', 'đứng', 'ảnh', 'ấn tượng', 'ở']\n"
          ]
        }
      ]
    },
    {
      "cell_type": "code",
      "source": [
        "# lưu dưới dạng txt\n",
        "\n",
        "out_put = sorted_tokens\n",
        "\n",
        "with open('final_txt', 'w') as file:\n",
        "    for i in out_put :\n",
        "        file.write(i + '\\n')\n",
        "\n",
        "print(\"đã lưu thành file txt\")"
      ],
      "metadata": {
        "colab": {
          "base_uri": "https://localhost:8080/"
        },
        "id": "wxrj9jfbQcYk",
        "outputId": "ea78eb69-12a2-4059-da2d-76663814cb0b"
      },
      "execution_count": null,
      "outputs": [
        {
          "output_type": "stream",
          "name": "stdout",
          "text": [
            "đã lưu thành file txt\n"
          ]
        }
      ]
    },
    {
      "cell_type": "code",
      "source": [],
      "metadata": {
        "id": "CnFg_kXYQd_s"
      },
      "execution_count": null,
      "outputs": []
    }
  ]
}